{
  "cells": [
    {
      "cell_type": "markdown",
      "source": [
        "# Assignment 02\n",
        "##### Python Basics II\n",
        "\n",
        "This tutorial was written by Terry Ruas (University of Göttingen); The references for external contributors for which this material was anyhow adapted/inspired are in the Acknowledgments section (end of the document).\n"
      ],
      "metadata": {
        "collapsed": false,
        "id": "LZgQdr4W6iKz"
      }
    },
    {
      "cell_type": "markdown",
      "source": [
        "This notebook will cover the following tasks:\n",
        "\n",
        "1. String Length\n",
        "2. Largest List Element\n",
        "3. Character Frequency\n",
        "4. Sorted List of Tuples\n",
        "5. Check Brackets\n",
        "6. Check Brackets II\n",
        "7. Queue\n",
        "8. Unlimited Power\n",
        "9. Unlimited Power II"
      ],
      "metadata": {
        "collapsed": false,
        "id": "Yvektzz_6iK1"
      }
    },
    {
      "cell_type": "markdown",
      "source": [
        "## Task 01 – String Length\n",
        "Write a program that reads in a string and prints the length of the input string. Do not use any built-in functions of Python, such as len().\n",
        "For example, if the input is “Computer Science”, the output should be length: 16."
      ],
      "metadata": {
        "collapsed": false,
        "id": "4GPUv_8U6iK1"
      }
    },
    {
      "cell_type": "code",
      "execution_count": null,
      "outputs": [
        {
          "output_type": "stream",
          "name": "stdout",
          "text": [
            "Bitte gebe ein Wort ein?\n",
            "Mein Wort ist: \n",
            "hallo\n",
            "Das Wort hat die länge 5\n"
          ]
        }
      ],
      "source": [
        "#Hallo\n",
        "print('Bitte gebe ein Wort ein?')\n",
        "#Eingabe Name\n",
        "wort = input('Mein Wort ist: \\n')\n",
        "counter = 0                  #Counter zählt menge der Buchstaben bis gleich länge\n",
        "for s in wort:\n",
        "      counter = counter+1\n",
        "print(\"Das Wort hat die Länge\", counter)"
      ],
      "metadata": {
        "id": "xt3XV0YD6iK2",
        "colab": {
          "base_uri": "https://localhost:8080/"
        },
        "outputId": "365ba823-227a-4b8e-d8bd-047205bfc7b9"
      }
    },
    {
      "cell_type": "markdown",
      "source": [
        "## Task 02 – Largest List Element\n",
        "Write a program that generates a list of 10 random integers between 1 and 100 and then finds and prints the largest element in the list. Do not use the built-in function max().\n",
        "For example, if the input is [23,3,42,29,12,15,8,4,37,34], the output should be the largest element: 42.\n",
        "\n",
        "Hint: Check out the module [random](https://docs.python.org/3.7/library/random.html)."
      ],
      "metadata": {
        "collapsed": false,
        "id": "_Jz4T4AQ6iK3"
      }
    },
    {
      "cell_type": "code",
      "execution_count": 1,
      "outputs": [
        {
          "output_type": "stream",
          "name": "stdout",
          "text": [
            "100\n"
          ]
        }
      ],
      "source": [
        "import random\n",
        "\n",
        "i=0\n",
        "l=[]\n",
        "while i < 10:\n",
        "  i=i+1\n",
        "  l.append(random.randint(0,100)) #10 Zufallswerte zur Liste Hinzufügen\n",
        "  l.sort() #nach größe sortieren\n",
        "print(l[-1]) #letzetes Element Drucken \n",
        "\n"
      ],
      "metadata": {
        "id": "aKLGcZ0_6iK3",
        "colab": {
          "base_uri": "https://localhost:8080/"
        },
        "outputId": "0ea861c3-41ad-47cd-beca-d8a7c7bcdb45"
      }
    },
    {
      "cell_type": "markdown",
      "source": [
        "## Task 03 – Character Frequency\n",
        "Write a program that:\n",
        "* Reads in a string and removes any spaces from the string\n",
        "* Counts how often individual characters occur in the string\n",
        "* Stores the information on character occurrence frequency in a dictionary\n",
        "* Prints the dictionary.\n",
        "\n",
        "For example, if the input is “santa claus”, the output should be:\n",
        "{'s': 2, 'a': 3, 'n': 1, 't': 1, 'c': 1, 'l': 1, 'u': 1}."
      ],
      "metadata": {
        "collapsed": false,
        "id": "PalhJ9x36iK4"
      }
    },
    {
      "cell_type": "code",
      "source": [],
      "metadata": {
        "id": "H4jeOSqQ6zSz"
      },
      "execution_count": 6,
      "outputs": []
    },
    {
      "cell_type": "code",
      "execution_count": 23,
      "outputs": [
        {
          "output_type": "stream",
          "name": "stdout",
          "text": [
            "halllo\n",
            "{'h': 1, 'a': 1, 'l': 3, 'o': 1}\n"
          ]
        }
      ],
      "source": [
        "string = input()  \n",
        "Dic = {}\n",
        "for s in string:    # für jeden Buchstaben\n",
        "  if s !=\" \":\n",
        "    if s not in Dic:\n",
        "      Dic[s] = 1      # Buchstabe wennn noch nicht in im Dictionary 1\n",
        "    \n",
        "    else:\n",
        "      Dic[s]+=1     # sonst + 1\n",
        "print(Dic)"
      ],
      "metadata": {
        "id": "vm5UlcKB6iK4",
        "colab": {
          "base_uri": "https://localhost:8080/"
        },
        "outputId": "835b2dc4-317c-4bed-e80c-34ff34e8d1fe"
      }
    },
    {
      "cell_type": "markdown",
      "source": [
        "## Task 04 – Sorted List of Tuples\n",
        "Write a program that:\n",
        "* Generates a list of 10 tuples, each tuple consisting of 3 random integers between 1 and 100\n",
        "* Sorts the list of tuples in increasing order of the third element in each tuple\n",
        "* Prints the sorted list of tuples\n",
        "\n",
        "For example, if the generated input list is: [(56, 77, 69), (43, 30, 38), (2, 77, 101), (93, 57, 4), (74, 21, 77), (39, 68, 68), (65, 53, 96), (16, 29, 88), (88, 70, 38)]\n",
        "The output should be: [(93, 57, 4), (43, 30, 38), (88, 70, 38), (39, 68, 68), (56, 77, 69), (74, 21, 77), (16, 29, 88), (65, 53, 96), (2, 77, 101)]\n",
        "\n",
        "Hint: You are allowed and encouraged to use built-in functions, such as [sorted()](https://docs.python.org/3.7/library/functions.html?highlight=sorted#sorted), for this task."
      ],
      "metadata": {
        "collapsed": false,
        "id": "JV1Mm9qA6iK5"
      }
    },
    {
      "cell_type": "code",
      "execution_count": 30,
      "outputs": [
        {
          "output_type": "stream",
          "name": "stdout",
          "text": [
            "[(22, 99, 32), (69, 8, 73), (72, 84, 35), (74, 79, 73), (89, 75, 23), (78, 47, 69), (58, 91, 46), (27, 85, 22), (88, 27, 40), (75, 8, 61)]\n",
            "[(27, 85, 22), (89, 75, 23), (22, 99, 32), (72, 84, 35), (88, 27, 40), (58, 91, 46), (75, 8, 61), (78, 47, 69), (69, 8, 73), (74, 79, 73)]\n"
          ]
        }
      ],
      "source": [
        "import random\n",
        "L = []\n",
        "def nimm_therd(elem):  \n",
        "    return elem[2]\n",
        "for i in range(10):\n",
        "  L.append((random.randint(1, 100),random.randint(1, 100),random.randint(1, 100))) #3er Tuppel hinzufügen\n",
        "print(L)      #unsortierte Liste\n",
        "print(sorted(L,key=nimm_therd)) #sortiert nach dritten Element\n",
        "\n"
      ],
      "metadata": {
        "id": "C3i7ctus6iK6",
        "colab": {
          "base_uri": "https://localhost:8080/"
        },
        "outputId": "d64a4079-7c7b-41b9-ac2a-c250c6a9be29"
      }
    },
    {
      "cell_type": "markdown",
      "source": [
        "## Task 05 – Check Brackets\n",
        "Write a program that reads in a string, which is supposed to be a mathematical expression. Focus on brackets only and check whether left and right brackets are composed correctly. Ignore all other characters (i.e. you don’t have to check correctness of operators and operands).\n",
        "Examples of correct input:\n",
        "* 3*(2+5)\n",
        "* ((()())())\n",
        "* (3+)(((4)))\n",
        "* Empty string\n",
        "\n",
        "Examples of incorrect input:\n",
        "* (3*(2+5)\n",
        "* ((()())(())\n",
        "* (3+)((4)))\n",
        "* ())(()\n"
      ],
      "metadata": {
        "collapsed": false,
        "id": "qz4P36Lz6iK6"
      }
    },
    {
      "cell_type": "code",
      "execution_count": 34,
      "outputs": [
        {
          "output_type": "stream",
          "name": "stdout",
          "text": [
            "(3+)((4)))\n",
            "False\n"
          ]
        }
      ],
      "source": [
        "string = input()\n",
        "counter = 0\n",
        "flag = True  # \n",
        "for s in string: \n",
        "  if counter < 0:\n",
        "    flag = False \n",
        "    break\n",
        "  if s == \"(\": # für jede Offene Klammer + \n",
        "    counter +=1\n",
        "  elif s == \")\": # für jede geschlossen Klammer -\n",
        "    counter -=1\n",
        "\n",
        "if flag and counter == 0 :  #  wahr wenn geschlossen = zu\n",
        "  print(\"True\")\n",
        "else:\n",
        "  print(\"False\")          #sonst falsch\n"
      ],
      "metadata": {
        "id": "2c67p_Zc6iK7",
        "colab": {
          "base_uri": "https://localhost:8080/"
        },
        "outputId": "c5a23b0a-f27f-4cd4-8641-d8be40aa7fbc"
      }
    },
    {
      "cell_type": "markdown",
      "source": [
        "## Task 06 – Check Brackets II\n",
        "Extend previous program, so it can handle also square and curly brackets. Note that expressions in brackets cannot overlap. So, expression ```{[()()]([[]])}{}``` is correct, but expression ```([)]``` is not."
      ],
      "metadata": {
        "collapsed": false,
        "id": "k1kh3odh6iK7"
      }
    },
    {
      "cell_type": "code",
      "execution_count": 40,
      "outputs": [
        {
          "output_type": "stream",
          "name": "stdout",
          "text": [
            "((()())(())\n",
            "False\n"
          ]
        }
      ],
      "source": [
        "def Klammern_offen_oder_zu(expr):\n",
        "    stack = []\n",
        "\n",
        "    for char in expr:\n",
        "        if char not in [\"(\", \"{\", \"[\",\")\",\"]\",\"}\"]:\n",
        "          pass\n",
        "        elif char in [\"(\", \"{\", \"[\"]:\n",
        "\n",
        "            stack.append(char)\n",
        "        else:\n",
        "\n",
        "            if not stack:\n",
        "                return False\n",
        "            current_char = stack.pop()\n",
        "            if current_char == '(':\n",
        "                if char != \")\":\n",
        "                    return False\n",
        "            if current_char == '{':\n",
        "                if char != \"}\":\n",
        "                    return False\n",
        "            if current_char == '[':\n",
        "                if char != \"]\":\n",
        "                    return False \n",
        "    if stack:\n",
        "        return False\n",
        "    return True\n",
        "print(Klammern_offen_oder_zu(input()))"
      ],
      "metadata": {
        "id": "2-UCbTRQ6iK7",
        "colab": {
          "base_uri": "https://localhost:8080/"
        },
        "outputId": "e79fdcb9-e292-4927-8c2d-b87df0ad0088"
      }
    },
    {
      "cell_type": "markdown",
      "source": [
        "## Task 07 – Queue\n",
        "Write a program that simulates a queue. It will read strings from the input. Consider these inputs as names of people coming to the end of a queue. Whenever “next” is given as input, the program will print out the name on the turn. The program finishes as soon as the queue is empty."
      ],
      "metadata": {
        "collapsed": false,
        "id": "tc-8rPlP6iK7"
      }
    },
    {
      "cell_type": "code",
      "execution_count": 17,
      "outputs": [
        {
          "output_type": "stream",
          "name": "stdout",
          "text": [
            "hallo\n",
            "you\n",
            "next\n",
            "hallo\n",
            "you\n"
          ]
        }
      ],
      "source": [
        "name_list = []\n",
        "while True:\n",
        "  string = input()\n",
        "  if string != \"next\": # Liste endet mit next\n",
        "    name_list.append(string)  # sonst name hinzufügen\n",
        "  else:\n",
        "    break \n",
        "for name in name_list:\n",
        "  print(name)"
      ],
      "metadata": {
        "id": "X0o04N6s6iK7",
        "colab": {
          "base_uri": "https://localhost:8080/"
        },
        "outputId": "f166cd49-ad0f-4299-995d-2fce9bfb150e"
      }
    },
    {
      "cell_type": "markdown",
      "source": [
        "## Task 08 – Unlimited Power\n",
        "Write a function with two arguments – $x$ and $n$. The function returns the value of $x^n$. Use [recursion](https://realpython.com/python-thinking-recursively/#recursive-data-structures-in-python)."
      ],
      "metadata": {
        "collapsed": false,
        "id": "eIhaN3g36iK8"
      }
    },
    {
      "cell_type": "code",
      "execution_count": 42,
      "outputs": [],
      "source": [
        "x = int(input())\n",
        "n = int(input())\n",
        "def power(a,b): # Funktion für Power\n",
        "  if b ==1 :    \n",
        "    return a\n",
        "  else:\n",
        "    return a * power(a,b-1)\n",
        "print(power(x,n))\n",
        "  "
      ],
      "metadata": {
        "id": "KSGHEAeL6iK8"
      }
    },
    {
      "cell_type": "markdown",
      "source": [
        "## Task 09 – Unlimited Power II\n",
        "Using function for factorial and function $x^n$ from previous task, write a program that reads value of $x$ and prints approximate value of $e^x$. Use this formula (Taylor series) for calculation\n",
        "$$ e^x = 1 + x + \\frac{x^2}{2!} + \\frac{x^3}{3!} + ... + \\frac{x^n}{n!} $$\n",
        "\n",
        "To get precise value of $e^x$, the series would have to be infinite. Suppose that there is some required accuracy, so the calculation finishes as soon as the value of the next element is smaller than given threshold (e.g., 0.000001)."
      ],
      "metadata": {
        "collapsed": false,
        "id": "WBh2WBXY6iK8"
      }
    },
    {
      "cell_type": "code",
      "execution_count": null,
      "outputs": [],
      "source": [
        "x= int(input())\n",
        "\n",
        "def power(a,b):   # Funktion für Power\n",
        "  if b ==1 :\n",
        "    return a\n",
        "  else:\n",
        "    return a * power(a,b-1)\n",
        "\n",
        "def factorial(n , a = 1):          #Faktor \n",
        "  if a ==n:\n",
        "    return 1\n",
        "  else: \n",
        "    return (a+1) * factorial(n , a = a+1)\n",
        "\n",
        "def e_x(z,e = 1,counter = 1):\n",
        "  if power(z,counter) / factorial(counter) < 0.000001:  #Näherung\n",
        "    return e\n",
        "  else:\n",
        "    e += power(z,counter) / factorial(counter)\n",
        "    counter+=1\n",
        "    return  e_x(z,e,counter)\n",
        "print(e_x(x))"
      ],
      "metadata": {
        "id": "tRaZgBVX6iK9"
      }
    },
    {
      "cell_type": "markdown",
      "source": [
        "## Acknowledgements\n",
        "\n",
        "Redmond, Hsu, Saini, Gupta, Ramsey, Kondrich, Capoor, Cohen, Borus, Kincaid, Malik, and many others. - Stanford CS41"
      ],
      "metadata": {
        "collapsed": false,
        "id": "Wl9JCEYM6iK-"
      }
    },
    {
      "cell_type": "code",
      "execution_count": null,
      "outputs": [],
      "source": [],
      "metadata": {
        "id": "Bx-WQj4v6iK-"
      }
    }
  ],
  "metadata": {
    "kernelspec": {
      "display_name": "Python 3",
      "language": "python",
      "name": "python3"
    },
    "language_info": {
      "codemirror_mode": {
        "name": "ipython",
        "version": 2
      },
      "file_extension": ".py",
      "mimetype": "text/x-python",
      "name": "python",
      "nbconvert_exporter": "python",
      "pygments_lexer": "ipython2",
      "version": "2.7.6"
    },
    "colab": {
      "provenance": [],
      "collapsed_sections": [
        "JV1Mm9qA6iK5"
      ]
    }
  },
  "nbformat": 4,
  "nbformat_minor": 0
}