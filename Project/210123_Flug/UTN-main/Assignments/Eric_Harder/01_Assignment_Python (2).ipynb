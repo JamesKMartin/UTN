{
  "cells": [
    {
      "cell_type": "markdown",
      "source": [
        "# Assignment 01\n",
        "##### Python Basics I\n",
        "\n",
        "This tutorial was written by Terry Ruas (University of Göttingen). The references for external contributors for which this material was anyhow adapted/inspired are in the Acknowledgments section (end of the document).\n"
      ],
      "metadata": {
        "collapsed": false,
        "id": "LZgQdr4W6iKz"
      }
    },
    {
      "cell_type": "markdown",
      "source": [
        "## Task 01 – Hello World!\n",
        "Write a simple program that asks the user to input a name and outputs a simple greeting, such as ‘Hi Name! Nice to meet you!’ and in the other line, ‘Welcome to the Programing Course!’. \n",
        "\n",
        "*Hint: Check out the input () and print() function in Python.* "
      ],
      "metadata": {
        "collapsed": false,
        "id": "4GPUv_8U6iK1"
      }
    },
    {
      "cell_type": "code",
      "execution_count": 1,
      "outputs": [
        {
          "output_type": "stream",
          "name": "stdout",
          "text": [
            "Hello what is your name?\n",
            "My name is: \n",
            "Eric\n",
            "Hi Eric! Nice to meet you \n",
            " \n",
            "Welcome to the programming course\n"
          ]
        }
      ],
      "source": [
        "#Hallo\n",
        "print('Hello what is your name?')\n",
        "#Eingabe Name\n",
        "name = input('My name is: \\n')\n",
        "#Begrüßung\n",
        "print('Hi ' + name + '! Nice to meet you \\n \\nWelcome to the programming course')"
      ],
      "metadata": {
        "id": "xt3XV0YD6iK2",
        "colab": {
          "base_uri": "https://localhost:8080/"
        },
        "outputId": "f50fe988-0d3d-4292-b8e9-033de6272b9c"
      }
    },
    {
      "cell_type": "markdown",
      "source": [
        "## Task 02 – Reversed Words\n",
        "Write a program that reads in a word provided by the user and prints the word in a reversed order. For example, if the input is hello, the output should be ‘olleh’. \n",
        "\n",
        "- Use a loop structure \n",
        "- Use just array indexes \n"
      ],
      "metadata": {
        "collapsed": false,
        "id": "_Jz4T4AQ6iK3"
      }
    },
    {
      "cell_type": "code",
      "execution_count": 6,
      "outputs": [
        {
          "output_type": "stream",
          "name": "stdout",
          "text": [
            "What is thy request for reversing\n",
            "hallo\n",
            "ollah\n"
          ]
        }
      ],
      "source": [
        "word = input(\"What is thy request for reversing\\n\")\n",
        "print(word[::-1])"
      ],
      "metadata": {
        "id": "aKLGcZ0_6iK3",
        "colab": {
          "base_uri": "https://localhost:8080/"
        },
        "outputId": "0ab41b7f-a05d-4cce-a91a-788cf2cd29f1"
      }
    },
    {
      "cell_type": "markdown",
      "source": [
        "## Task 03 –  Fibonacci Numbers\n",
        "Write a program that reads in an upper bound (number) provided by the user and prints the sequence of Fibonacci numbers that are less or equal to the number given by the user. Use a while-loop for this task. \n",
        "\n",
        "The Fibonacci sequence is defined as \n",
        "$ F_{n}=F_{n−1}+F_{n−2}$. Use $F_{0}=0$ and $F_{1} = 1$ as seed values.  \n",
        "\n",
        "For example, if the user inputs 6, the output should be 0, 1, 1, 2, 3, 5. \n",
        "\n",
        "\n",
        "\n"
      ],
      "metadata": {
        "collapsed": false,
        "id": "PalhJ9x36iK4"
      }
    },
    {
      "cell_type": "code",
      "execution_count": 2,
      "outputs": [
        {
          "output_type": "stream",
          "name": "stdout",
          "text": [
            "Meine Zahl ist 7\n",
            "Die Fibonacci Zahl ist  0112358"
          ]
        }
      ],
      "source": [
        "# Eingabe der Nummer\n",
        "number = input('Meine Zahl ist ')\n",
        "intNumber = int(number)\n",
        "i = 0\n",
        "f0 = 0\n",
        "f1 = 1\n",
        "\n",
        "# Berechnung Fibonacci\n",
        "print('Die Fibonacci Zahl ist ', '', end='')\n",
        "while i < intNumber:\n",
        "    print(f0, end='')\n",
        "    Next = f0 + f1\n",
        "    f0 = f1  #\n",
        "    f1 = Next\n",
        "    i = i + 1"
      ],
      "metadata": {
        "id": "vm5UlcKB6iK4",
        "colab": {
          "base_uri": "https://localhost:8080/"
        },
        "outputId": "6cc8707d-003e-4d39-eeb4-852352fe2309"
      }
    },
    {
      "cell_type": "markdown",
      "source": [
        "## Task 04 – Selective Printing \n",
        "\n",
        "Write a program that reads in an upper bound (number) provided by the user and prints all integer numbers that are less or equal to the upper bound except the integer numbers that are divisible by 3. Use the continue statement. For example, if the user enters 6 as the upper bound, the output should be 0, 1, 2, 4, 5.  "
      ],
      "metadata": {
        "collapsed": false,
        "id": "JV1Mm9qA6iK5"
      }
    },
    {
      "cell_type": "code",
      "execution_count": 14,
      "outputs": [
        {
          "output_type": "stream",
          "name": "stdout",
          "text": [
            "6\n",
            "0\n",
            "1\n",
            "2\n",
            "Hello\n",
            "4\n",
            "5\n",
            "Hello\n"
          ]
        }
      ],
      "source": [
        "def counting():\n",
        "    N = int(input())\n",
        "    n1=-1\n",
        "    while N > n1:\n",
        "        n1=n1+1\n",
        "        if ((n1 % 3) == 0) and (n1 !=0):\n",
        "            print(\"Hello\")\n",
        "            continue\n",
        "        print(n1)\n",
        "        \n",
        "counting()"
      ],
      "metadata": {
        "id": "C3i7ctus6iK6",
        "colab": {
          "base_uri": "https://localhost:8080/"
        },
        "outputId": "7ec859b4-0d0f-417b-84e2-adb4c6fc8aff"
      }
    },
    {
      "cell_type": "markdown",
      "source": [
        "## Task 05 – Triangle Checking   \n",
        "\n",
        "Write a Python program that asks the user to input the lengths of the sides in a triangle and outputs whether the triangle is equilateral, isosceles, or scalene. The program should also check for the Triangle inequality $(z < x + y)$,  and prompt the user for a valid input. \n",
        "\n",
        "- An equilateral triangle is a triangle in which all three sides are of equal length. \n",
        "- An isosceles triangle is a triangle with (at least) two sides of equal length. \n",
        "- A scalene triangle is a triangle in which all three sides have different lengths. \n",
        "\n",
        "For example, if the user inputs a=3, b=4, c=5, the triangle is scalene. \n"
      ],
      "metadata": {
        "collapsed": false,
        "id": "qz4P36Lz6iK6"
      }
    },
    {
      "cell_type": "code",
      "execution_count": 9,
      "outputs": [
        {
          "output_type": "stream",
          "name": "stdout",
          "text": [
            "Please insert 3 lengths of the triangle sides: \n",
            "length number 1: 10\n",
            "length number 2: 10\n",
            "length number 3: 5\n",
            "This is a valid input\n",
            "The Triangle is isosceles.\n"
          ]
        }
      ],
      "source": [
        "print('Please insert 3 lengths of the triangle sides: ')\n",
        "numberX = input('length number 1: ')\n",
        "numberY = input('length number 2: ')\n",
        "numberZ = input('length number 3: ')\n",
        "\n",
        "#input string to integer\n",
        "x = int(numberX)\n",
        "y = int(numberY)\n",
        "z = int(numberZ)\n",
        "\n",
        "if z < (x + y):\n",
        "    print('This is a valid input')\n",
        "    if x == y and y == z:\n",
        "        print('The Triangle is equilateral.')\n",
        "    else:\n",
        "        if x == y or y == z or x == z:\n",
        "            print('The Triangle is isosceles.')\n",
        "        else:\n",
        "            print('The triangle is scalene.')\n",
        "else:\n",
        "    print('No valid input, try again!')"
      ],
      "metadata": {
        "id": "2c67p_Zc6iK7",
        "colab": {
          "base_uri": "https://localhost:8080/"
        },
        "outputId": "831a65ea-3e61-4201-e0b7-83e856495701"
      }
    },
    {
      "cell_type": "markdown",
      "source": [
        "## Task 06 – Decimal to Octal Conversion \n",
        "\n",
        "Write a program that reads a non-negative integer number in the decimal representation provided by the user and prints the octal representation of the number. For example, if the user enters 167, the output should be 247.  \n",
        "\n",
        "Write a more general program that reads in a non-negative number (potentially including decimal places) in the decimal representation provided by the user and prints the octal representation of the number. For example, if the user enters 25.11, the output should be 31.0702436560507534. "
      ],
      "metadata": {
        "collapsed": false,
        "id": "k1kh3odh6iK7"
      }
    },
    {
      "cell_type": "code",
      "execution_count": 11,
      "outputs": [
        {
          "output_type": "stream",
          "name": "stdout",
          "text": [
            "Please Type your number: 25.11\n",
            "31.1099999999999994"
          ]
        }
      ],
      "source": [
        "input\n",
        "decNum = input('Please Type your number: ')\n",
        "floatDecNum = float(decNum)\n",
        "#output\n",
        "#print(oct(floatDecNum))\n",
        "def DecimalToOctal(n):\n",
        "    if(n > 0):\n",
        "        # recursively calling on n/8\n",
        "        DecimalToOctal(int(n/8))\n",
        "        # printing the remainder\n",
        "        print(n%8, end='')\n",
        "\n",
        "DecimalToOctal(floatDecNum)"
      ],
      "metadata": {
        "id": "2-UCbTRQ6iK7",
        "colab": {
          "base_uri": "https://localhost:8080/"
        },
        "outputId": "a1809489-ca06-4eaa-a9b3-a326c784f09e"
      }
    },
    {
      "cell_type": "markdown",
      "source": [
        "## Acknowledgements\n",
        "\n",
        "Redmond, Hsu, Saini, Gupta, Ramsey, Kondrich, Capoor, Cohen, Borus, Kincaid, Malik, and many others. - Stanford CS41"
      ],
      "metadata": {
        "collapsed": false,
        "id": "Wl9JCEYM6iK-"
      }
    },
    {
      "cell_type": "code",
      "execution_count": null,
      "outputs": [],
      "source": [],
      "metadata": {
        "id": "Bx-WQj4v6iK-"
      }
    }
  ],
  "metadata": {
    "kernelspec": {
      "display_name": "Python 3",
      "language": "python",
      "name": "python3"
    },
    "language_info": {
      "codemirror_mode": {
        "name": "ipython",
        "version": 2
      },
      "file_extension": ".py",
      "mimetype": "text/x-python",
      "name": "python",
      "nbconvert_exporter": "python",
      "pygments_lexer": "ipython2",
      "version": "2.7.6"
    },
    "colab": {
      "provenance": []
    }
  },
  "nbformat": 4,
  "nbformat_minor": 0
}