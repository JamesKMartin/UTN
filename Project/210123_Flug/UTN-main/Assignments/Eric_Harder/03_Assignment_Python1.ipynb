{
  "cells": [
    {
      "cell_type": "markdown",
      "source": [
        "# Assignment 03\n",
        "#### Python Basics III - Functions and Classes\n",
        "\n",
        "This tutorial was written by Terry L. Ruas (University of Göttingen). The references for external contributors for which this material was anyhow adapted/inspired are in the Acknowledgments section (end of the document)."
      ],
      "metadata": {
        "collapsed": false,
        "id": "3i7Q6MM_7a82"
      }
    },
    {
      "cell_type": "markdown",
      "source": [
        "This notebook will cover the following tasks:\n",
        "\n",
        "1. Dictionary\n",
        "2. Classes"
      ],
      "metadata": {
        "collapsed": false,
        "id": "eKtTDCOS7a83"
      }
    },
    {
      "cell_type": "markdown",
      "source": [
        "## Task 01 – Dictionary\n",
        "Imagine you have to write a (very simple) bookkeepingsystem for a bank that keeps track of the account balances of each of its customers.\n",
        "1. Write a function that spans a dictionary holding a default balance of 0 for an initial list of customers. For simplicity, assume customer names are unique identifier.  (optional) Can you express that same functionality using a lambda function?\n",
        "2. What are elegant ways to add or remove single and multiple customers using the functionality of dict?\n",
        "3. Now write two simple functions that allow you to deposit and withdraw money for a given bank customer.\n",
        "4. Include error messages for inputs that are not permissible, e.g., withdrawing negative amounts or overdrawing the account, etc."
      ],
      "metadata": {
        "collapsed": false,
        "id": "XumFInmh7a85"
      }
    },
    {
      "cell_type": "code",
      "execution_count": null,
      "outputs": [],
      "source": [
        "#Liste von Kunden\n",
        "\n",
        "Kunden = ['Kunde1','Kunde2','Kunde3']\n",
        "\n",
        "#Dictionary mit Kunden und Guthaben \n",
        "\n",
        "Guthaben={c: 0 for c in Kunden}\n",
        "\n",
        "# Mit lambda\n",
        "\n",
        "alt_Guthaben=(map(lambda x: 0, Kunden))"
      ],
      "metadata": {
        "id": "aEr0j2IX7a85"
      }
    },
    {
      "cell_type": "code",
      "source": [
        "Guthaben\n"
      ],
      "metadata": {
        "colab": {
          "base_uri": "https://localhost:8080/"
        },
        "id": "ciJqp6pBs_oB",
        "outputId": "83476f5f-2020-4ce9-fcee-426b0f6262f1"
      },
      "execution_count": null,
      "outputs": [
        {
          "output_type": "execute_result",
          "data": {
            "text/plain": [
              "{'Kunde1': 0, 'Kunde2': 0, 'Kunde3': 0}"
            ]
          },
          "metadata": {},
          "execution_count": 81
        }
      ]
    },
    {
      "cell_type": "code",
      "source": [
        "#1 Kunden hinzufügen:\n",
        "# add\n",
        "NeuKunde = 'Kunde4'\n",
        "Guthaben[NeuKunde] = 0\n",
        "print(Guthaben)\n",
        "#remove\n",
        "Guthaben.pop(NeuKunde)\n",
        "print(Guthaben)\n",
        "\n",
        "#Mehrere Kundenent hinzufügen\n",
        "#add\n",
        "NeuKunden = ['Kunde4','Kunde5','Kunde 6']\n",
        "Guthaben.update({c:0 for c in NeuKunden})\n",
        "print(Guthaben)\n",
        "[Guthaben.pop(user) for user in NeuKunden]\n",
        "print(Guthaben)\n"
      ],
      "metadata": {
        "colab": {
          "base_uri": "https://localhost:8080/"
        },
        "id": "CgE8RVVPvN0C",
        "outputId": "5c21a0fb-52c3-4af5-8d53-c56732bdfc9d"
      },
      "execution_count": null,
      "outputs": [
        {
          "output_type": "stream",
          "name": "stdout",
          "text": [
            "{'Kunde1': 35, 'Kunde2': 0, 'Kunde3': 5, 'Kunde4': 0}\n",
            "{'Kunde1': 35, 'Kunde2': 0, 'Kunde3': 5}\n",
            "{'Kunde1': 35, 'Kunde2': 0, 'Kunde3': 5, 'Kunde4': 0, 'Kunde5': 0, 'Kunde 6': 0}\n",
            "{'Kunde1': 35, 'Kunde2': 0, 'Kunde3': 5}\n"
          ]
        }
      ]
    },
    {
      "cell_type": "code",
      "source": [
        "def Einzahlen(Konten, Kunde, Betrag):\n",
        "    if Kunde not in Konten:\n",
        "        print(f'Kunde {Kunde} wurde nicht gefunden')\n",
        "    elif type(Betrag) != int and type(Betrag) != float:\n",
        "        print('Bitte gebe einen Geraden betrag ein')\n",
        "    elif Betrag < 0:\n",
        "        print('Es kann keine negativer Betrag eingezahlt werden')\n",
        "    else:\n",
        "        Konten[Kunde] += Betrag\n",
        "        print('Sie haben', Betrag, ' € eingezahlt')\n",
        "        \n",
        "    return Konten\n",
        "\n",
        "def Auszahlen(Konten, Kunde, Betrag):\n",
        "    if Kunde not in Konten:\n",
        "        print(f'Der Kunde {Kunde} wurde nicht gefunden')\n",
        "    elif type(Betrag) != int and type(Betrag) != float:\n",
        "        print('Bitte geben Sie eine gerade Zahl ein')\n",
        "    elif Betrag > Konten[Kunde]:\n",
        "        print('Das überziehen des Kontos ist nicht erlaubt')\n",
        "    else:\n",
        "        print('Die Ausszahlung war erfolgreich')\n",
        "        Konten[Kunde] -= Betrag\n",
        "    return Konten\n",
        "    \n",
        "    \n",
        "    \n"
      ],
      "metadata": {
        "id": "dnBVrTOOxV5n"
      },
      "execution_count": null,
      "outputs": []
    },
    {
      "cell_type": "code",
      "source": [
        "#Abheben und Einzahlen Tests\n",
        "\n",
        "Guthaben = Einzahlen(Guthaben, 'Kunde1', 50)\n",
        "Guthaben = Einzahlen(Guthaben, 'Kunde2',-5)\n",
        "Guthaben = Einzahlen(Guthaben, 'Kunde3', 5)\n",
        "\n",
        "Guthaben = Auszahlen(Guthaben, 'Kunde1', 15)\n",
        "Guthaben = Auszahlen(Guthaben, 'Kunde2', 15)\n",
        "Guthaben  = Auszahlen(Guthaben, 'Kunde3', 15)\n",
        "\n",
        "print(f'\\n{Guthaben}')"
      ],
      "metadata": {
        "colab": {
          "base_uri": "https://localhost:8080/"
        },
        "id": "fuxCYmY9zWP1",
        "outputId": "9af76b72-ec52-4e9e-e258-7cc2fbb6d8dd"
      },
      "execution_count": null,
      "outputs": [
        {
          "output_type": "stream",
          "name": "stdout",
          "text": [
            "Sie haben 50  € eingezahlt\n",
            "Es kann keine negativer Betrag eingezahlt werden\n",
            "Sie haben 5  € eingezahlt\n",
            "Die Ausszahlung war erfolgreich\n",
            "Das überziehen des Kontos ist nicht erlaubt\n",
            "Das überziehen des Kontos ist nicht erlaubt\n",
            "\n",
            "{'Kunde1': 70, 'Kunde2': 0, 'Kunde3': 10}\n"
          ]
        }
      ]
    },
    {
      "cell_type": "markdown",
      "source": [
        "\n",
        "## Task 02 – Classes\n",
        "The manager thinks that the simple bookkeeping system you have built is not powerful enough. She requests that you start from scratch and use classes instead.\n",
        "1. Write a simple class with appropriate constructor *\\_\\_init\\_\\_* that initializes an object of class *Customer* tracking the same information as in Task 01.\n",
        "2. Now write two simple methods for class *Customer* that allow you to deposit and withdraw money for a given customer object.\n",
        "3. Include error messages for inputs that are not permissible, e.g., withdrawing negative amounts or overdrawing the account.\n",
        "4. (Inheritance) Write a child class *SavingsCustomer* that inherits its features from the parent class *Customer*. A savings customer has an extra savings balance for receiving extra interest. The class should have a method to transfer money back and forth between the accounts' main balance as well as the savings balance. Do not forget to add reasonable error messages."
      ],
      "metadata": {
        "collapsed": false,
        "id": "9tMOI3tn7a86"
      }
    },
    {
      "cell_type": "code",
      "source": [
        "#Klasse Definition\n",
        "\n",
        "class Kunde:\n",
        "  name = \"\"\n",
        "  amount = 0\n",
        "\n",
        "  #Constructor\n",
        "  def __init__ (self, name, betrag):\n",
        "    self.name = name\n",
        "    self.betrag = betrag\n",
        "  \n",
        "  #Einzahlung\n",
        "  def einzahlen2 (self, Geld):\n",
        "    if Geld < 0:\n",
        "      print(\"Einzahlung muss positiv sein\")\n",
        "    else:\n",
        "      self.betrag = self.betrag + Geld\n",
        "  \n",
        "  #Auszahlung\n",
        "  def auszahlen2 (self, Geld):\n",
        "    if Geld < 0:\n",
        "      print(\"Auszahlung muss positiv sein.\")\n",
        "    elif self.betrag - Geld < 0:\n",
        "      print(\"Du hast nicht genug Geld.\")\n",
        "    else:\n",
        "      self.betrag = self.betrag - Geld\n",
        "\n",
        "#Test Eingabe \n",
        "\n",
        "Kunde1 = Kunde(0,0)\n",
        "Kunde1.einzahlen2(5)\n",
        "Kunde1.auszahlen2(1)\n",
        "print(Kunde1.betrag)"
      ],
      "metadata": {
        "colab": {
          "base_uri": "https://localhost:8080/"
        },
        "id": "x5CN3ri3F-Hp",
        "outputId": "b1e31603-a43d-44ab-e3bf-ed2b7453ee25"
      },
      "execution_count": null,
      "outputs": [
        {
          "output_type": "stream",
          "name": "stdout",
          "text": [
            "4\n"
          ]
        }
      ]
    },
    {
      "cell_type": "code",
      "source": [
        "#Spar class\n",
        "\n",
        "class Sparer(Kunde):\n",
        "  sparen = 0\n",
        "\n",
        "  def Senden(self, Geld, where):\n",
        "    if Geld < 0:\n",
        "      print(\"Du brauchst ein Guthaben.\")\n",
        "    \n",
        "    if where == 's':               # von hauptkonto zum Sparaccount senden \n",
        "      if Geld > self.betrag:\n",
        "        print(\"Du hast nicht genug Geld\")\n",
        "      else:\n",
        "        self.betrag -= Geld\n",
        "        self.sparen += Geld\n",
        "  \n",
        "    if where == 'h':                 #von spar account zu hauptkonto senden\n",
        "      if Geld > self.sparen:\n",
        "        print(\"Du hast nicht genug Geld\")\n",
        "      else:\n",
        "        self.sparen -= Geld\n",
        "        self.betrag += Geld\n",
        "\n",
        "\n",
        "#Testen\n",
        "\n",
        "Kunde2 = Sparer(\"Kunde\", 15)\n",
        "Kunde2.Senden(5, 's')\n",
        "\n",
        "print( \"Sparkonoto: \",Kunde2.sparen)\n",
        "print(\"Altes Konto: \",Kunde2.betrag)\n",
        "\n",
        "Kunde2.Senden(3, 'h')\n",
        "print(\"Sparekonto: \",Kunde2.sparen)\n",
        "print(\"Altes Konto: \",Kunde2.betrag)"
      ],
      "metadata": {
        "colab": {
          "base_uri": "https://localhost:8080/"
        },
        "id": "qorDiVLqShMR",
        "outputId": "42901903-a7b6-4639-e393-c50a59d5f5ad"
      },
      "execution_count": 161,
      "outputs": [
        {
          "output_type": "stream",
          "name": "stdout",
          "text": [
            "Sparkonoto:  5\n",
            "Altes Konto:  10\n",
            "Sparekonto:  2\n",
            "Altes Konto:  13\n"
          ]
        }
      ]
    }
  ],
  "metadata": {
    "kernelspec": {
      "display_name": "Python 3",
      "language": "python",
      "name": "python3"
    },
    "language_info": {
      "codemirror_mode": {
        "name": "ipython",
        "version": 2
      },
      "file_extension": ".py",
      "mimetype": "text/x-python",
      "name": "python",
      "nbconvert_exporter": "python",
      "pygments_lexer": "ipython2",
      "version": "2.7.6"
    },
    "colab": {
      "provenance": []
    }
  },
  "nbformat": 4,
  "nbformat_minor": 0
}