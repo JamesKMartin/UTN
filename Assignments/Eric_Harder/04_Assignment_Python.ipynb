{
  "cells": [
    {
      "cell_type": "markdown",
      "source": [
        "# Assignment 04\n",
        "#### Python Basics IV - Functions, Unity Testing, and Logging\n",
        "\n",
        "This tutorial was written by Terry L. Ruas (University of Göttingen). The references for external contributors for which this material was anyhow adapted/inspired are in the Acknowledgments section (end of the document)."
      ],
      "metadata": {
        "collapsed": false,
        "id": "_ikvQGPR7a99"
      }
    },
    {
      "cell_type": "markdown",
      "source": [
        "This notebook will cover the following tasks:\n",
        "\n",
        "1. Lambda functions\n",
        "2. List comprehensions\n",
        "3. Unity Test\n",
        "4. HTTP Request\n",
        "5. Logging\n",
        "6. Download File"
      ],
      "metadata": {
        "collapsed": false,
        "id": "SchiSV187a9-"
      }
    },
    {
      "cell_type": "markdown",
      "source": [
        "## Task 01 – Lambda functions\n",
        "Python supports lambda functions as a handy way to define small, anonymous, i.e., unnamed, functions inline. The basic syntax for lambda functions is:\n",
        "$$\n",
        " \\textbf{lambda}\\text{ parameter1, parameter2, ... : }\\textbf{expression}\n",
        "$$\n",
        "Use a lambda function only to retain the even values in an array of integers. Test your function with an input array of your choosing. Print the input array and the filtered output array to stdout."
      ],
      "metadata": {
        "collapsed": false,
        "id": "QOoNCxgu7a-A"
      }
    },
    {
      "cell_type": "code",
      "execution_count": null,
      "outputs": [
        {
          "output_type": "stream",
          "name": "stdout",
          "text": [
            "[1, 2, 3, 4, 5, 6, 7, 8, 9, 10, 11]\n",
            "[2, 4, 6, 8, 10]\n"
          ]
        }
      ],
      "source": [
        "Zahlen = [1,2,3,4,5,6,7,8,9,10,11]  # Liste\n",
        "Gerade = []\n",
        "\n",
        "for x in Zahlen:                    #  solange wie Liste\n",
        "\n",
        "  test =  lambda a : a % 2          # teste ob lamda gerade\n",
        "  if test(x) == 0:                  # wenn gerade\n",
        "    Gerade.append(x)                # füge zur liste hinzu\n",
        "\n",
        "\n",
        "\n",
        "print(Zahlen)\n",
        "print(Gerade)"
      ],
      "metadata": {
        "id": "5keoJAOw7a-B",
        "colab": {
          "base_uri": "https://localhost:8080/"
        },
        "outputId": "3937ee9a-cd29-4b1e-bef2-8dc698fb932a"
      }
    },
    {
      "cell_type": "markdown",
      "source": [
        "## Task 02 – List comprehensions\n",
        "Python supports list comprehension. The basic syntax of list comprehensions is:\n",
        "$$\n",
        "\\text{L = [<elem> for <elem> <Condition>]}\n",
        "$$\n",
        "Use list comprehensions to write a Python function *remove_long_words()* that:\n",
        "- accepts a sentence s and an integer n as input parameters\n",
        "- uses the *split()* function of String objects to split the sentence into words\n",
        "- stores the individual words in a list\n",
        "- removes all words that are longer than n characters from the list, thereby creating a new list\n",
        "- prints the list to stdout"
      ],
      "metadata": {
        "collapsed": false,
        "id": "XSyLzHT17a-B"
      }
    },
    {
      "cell_type": "code",
      "execution_count": null,
      "outputs": [],
      "source": [
        "def remove_long_words():  # Funktion\n",
        "  s = \"welcome to the jungle\"   # Satz\n",
        "  n = 6\n",
        "\n",
        "  sentence  = s.split()  # Satz in einzelne Wörter splitten\n",
        "  newlist = [ y for y in sentence if len(y) < n] # jedes Wort das Kürzer als n ist wird in neue Liste übertragen\n",
        "  "
      ],
      "metadata": {
        "id": "hT-mGe_T7a-B"
      }
    },
    {
      "cell_type": "code",
      "source": [
        "  print(sentence)\n",
        "  print(newlist)\n"
      ],
      "metadata": {
        "id": "k3WiN82NRMu_",
        "colab": {
          "base_uri": "https://localhost:8080/"
        },
        "outputId": "49947220-fad7-49dd-fa82-f27359a273d5"
      },
      "execution_count": null,
      "outputs": [
        {
          "output_type": "stream",
          "name": "stdout",
          "text": [
            "['welcome', 'to', 'the', 'jungle']\n",
            "['to', 'the']\n"
          ]
        }
      ]
    },
    {
      "cell_type": "markdown",
      "source": [
        "## Task 03 – Unity Test\n",
        "The following algorithm in Python converts numbers in decimal representation to binary.\n",
        "1. Develop a unit test that checks for values in the interval \\[-1,3\\] whether the algorithm returns the\n",
        "expected results.\n",
        "2. Adjust the algorithm, so it passes the unit test developed in 1). Rename the function to\n",
        "*decimal_to_binary_correct()*"
      ],
      "metadata": {
        "collapsed": false,
        "id": "_QHEBddh7a-C"
      }
    },
    {
      "cell_type": "code",
      "execution_count": null,
      "outputs": [
        {
          "output_type": "stream",
          "name": "stdout",
          "text": [
            "[]\n"
          ]
        }
      ],
      "source": [
        "import math\n",
        "n=0     # Die Funktion geht für - Zahlen und 0 nicht \n",
        "def decimal2binary(n):\n",
        "    # function to convert decimal integers to binary\n",
        "    x = []\n",
        "\n",
        "    while n > 0:\n",
        "        x.append(n % 2)\n",
        "        n = math.floor(n/2)\n",
        "    return x[::-1]\n",
        " \n",
        "print(decimal2binary(n))\n",
        "\n",
        "\n"
      ],
      "metadata": {
        "id": "IdFKIU4u7a-C",
        "colab": {
          "base_uri": "https://localhost:8080/"
        },
        "outputId": "a53a2906-8adc-40a4-dec7-77aff17069a7"
      }
    },
    {
      "cell_type": "code",
      "execution_count": null,
      "outputs": [
        {
          "output_type": "error",
          "ename": "ValueError",
          "evalue": "ignored",
          "traceback": [
            "\u001b[0;31m---------------------------------------------------------------------------\u001b[0m",
            "\u001b[0;31mValueError\u001b[0m                                Traceback (most recent call last)",
            "\u001b[0;32m<ipython-input-166-6f2951de8ce4>\u001b[0m in \u001b[0;36m<module>\u001b[0;34m\u001b[0m\n\u001b[1;32m      1\u001b[0m \u001b[0;32mfor\u001b[0m \u001b[0mi\u001b[0m \u001b[0;32min\u001b[0m \u001b[0mrange\u001b[0m\u001b[0;34m(\u001b[0m\u001b[0;34m-\u001b[0m\u001b[0;36m1\u001b[0m\u001b[0;34m,\u001b[0m \u001b[0;36m3\u001b[0m\u001b[0;34m)\u001b[0m\u001b[0;34m:\u001b[0m\u001b[0;34m\u001b[0m\u001b[0;34m\u001b[0m\u001b[0m\n\u001b[1;32m      2\u001b[0m     \u001b[0mb\u001b[0m \u001b[0;34m=\u001b[0m \u001b[0mdecimal2binary\u001b[0m\u001b[0;34m(\u001b[0m\u001b[0mi\u001b[0m\u001b[0;34m)\u001b[0m\u001b[0;34m\u001b[0m\u001b[0;34m\u001b[0m\u001b[0m\n\u001b[0;32m----> 3\u001b[0;31m     \u001b[0;32massert\u001b[0m \u001b[0mi\u001b[0m \u001b[0;34m==\u001b[0m \u001b[0mint\u001b[0m\u001b[0;34m(\u001b[0m\u001b[0;34m\"\"\u001b[0m\u001b[0;34m.\u001b[0m\u001b[0mjoin\u001b[0m\u001b[0;34m(\u001b[0m\u001b[0mmap\u001b[0m\u001b[0;34m(\u001b[0m\u001b[0mstr\u001b[0m\u001b[0;34m,\u001b[0m \u001b[0mb\u001b[0m\u001b[0;34m)\u001b[0m\u001b[0;34m)\u001b[0m\u001b[0;34m,\u001b[0m \u001b[0;36m2\u001b[0m\u001b[0;34m)\u001b[0m\u001b[0;34m\u001b[0m\u001b[0;34m\u001b[0m\u001b[0m\n\u001b[0m",
            "\u001b[0;31mValueError\u001b[0m: invalid literal for int() with base 2: ''"
          ]
        }
      ],
      "source": [
        "\n",
        "\n",
        "for i in range(-1, 3):     # Teste die Funktion zwichen -1 und 3\n",
        "    b = decimal2binary(i)  \n",
        "    assert i == int(\"\".join(map(str, b)), 2) #listezusammenfügen und mit richtigen ergebnis vergleichen"
      ],
      "metadata": {
        "id": "McO91gqP7a-D",
        "colab": {
          "base_uri": "https://localhost:8080/",
          "height": 203
        },
        "outputId": "1b7540b0-1cd7-4d9a-d387-438a71d14249"
      }
    },
    {
      "cell_type": "code",
      "source": [
        "def decimal2binary_correct(n: int):\n",
        "   \n",
        "    # correct version of the above function\n",
        "    if n < 0:                 ## wenn kleiner als Null\n",
        "        return \"-\"+bin(-n)[2:]  ## erzeuge 2er Binärzahl mit -\n",
        "    \n",
        "    return bin(n)[2:]  ## sonst erzeuge 2er Binärzahl \n",
        "\n",
        "print(decimal2binary_correct(n))\n",
        "\n",
        "for i in range(-1, 4):\n",
        "    b = decimal2binary_correct(i)\n",
        "    assert i == int(b, 2)"
      ],
      "metadata": {
        "colab": {
          "base_uri": "https://localhost:8080/"
        },
        "id": "7-LL5d6Gq7ba",
        "outputId": "8345aa66-fdbd-435a-d17c-ccad6c936105"
      },
      "execution_count": null,
      "outputs": [
        {
          "output_type": "stream",
          "name": "stdout",
          "text": [
            "11\n"
          ]
        }
      ]
    },
    {
      "cell_type": "markdown",
      "source": [
        "## Task 04 – HTTP Request\n",
        "Working with HTTP connections is essential for many data gathering tasks. The Python library *urllib* provides all functionality we need.\n",
        "Write a Python function *open_url(url)* that:\n",
        "- uses urllib to establish a HTTP connection to an arbitrary website\n",
        "- retrieves and prints the first 200 characters of the html resource, i.e. the html source code, of the chosen website\n",
        "- handles the exceptions thrown by the *urllib.request* function\n",
        "\n",
        "FYI: The basic syntax for exception handling in Python is as follows:\n",
        "```\n",
        "try:\n",
        "    ...\n",
        "    return ...\n",
        "except SomeError1 as e:\n",
        "    # error-specific exception handling\n",
        "except SomeError2 as e:\n",
        "    # error-specific exception handling\n",
        "except\n",
        "    # general exception handling\n",
        "```"
      ],
      "metadata": {
        "collapsed": false,
        "id": "iNLOQ5y47a-E"
      }
    },
    {
      "cell_type": "code",
      "execution_count": 14,
      "outputs": [
        {
          "output_type": "stream",
          "name": "stdout",
          "text": [
            "<!DOCTYPE html>\n",
            "<html lang=\"de\">\n",
            "\t<head>\n",
            "\t\t<title>Design-Harder </title><meta property=\"og:site_name\" content=\"deutsch\" />\n",
            "<meta property=\"og:title\" content=\"Design-Harder \" />\n",
            "<meta property=\"og:desc\n"
          ]
        }
      ],
      "source": [
        "\n",
        "\n",
        "from urllib.error import HTTPError, URLError\n",
        "from urllib.request import urlopen, Request\n",
        "import ssl\n",
        "\n",
        "def open_url(url, headers=None):\n",
        "    #ignores known bad SSL certificate\n",
        "    unverified_context = ssl._create_unverified_context()\n",
        "    \n",
        "    request = Request(url, headers=headers or {})\n",
        "    try:\n",
        "        from urllib import request\n",
        "        rueckgabewert = request.urlopen('https://www.harder-design.com/')\n",
        "        inhalt = rueckgabewert.read(200)\n",
        "        inhalt_text = inhalt.decode(\"UTF-8\")\n",
        "        print(inhalt_text)\n",
        "    except HTTPError as error:\n",
        "        print(error.status, error.reason)\n",
        "    except URLError as error:\n",
        "        print(error.reason)\n",
        "    except TimeoutError:\n",
        "        print(\"Request timed out\")\n",
        "\n",
        "\n",
        "\n",
        "open_url('https://www.harder-design.com/')\n",
        "\n",
        "\n",
        "\n",
        "\n",
        "\n"
      ],
      "metadata": {
        "id": "NaCXxVlB7a-E",
        "colab": {
          "base_uri": "https://localhost:8080/"
        },
        "outputId": "af9f6ec2-3a10-4aa3-b763-f27e148ef066"
      }
    },
    {
      "cell_type": "code",
      "source": [],
      "metadata": {
        "id": "WfW6TJGRRecN"
      },
      "execution_count": null,
      "outputs": []
    },
    {
      "cell_type": "markdown",
      "source": [
        "## Task 05 – Logging\n",
        "The logging module in Python provides functionality for logging and debugging purposes. Use the logging module to extend the error handling for the function that you implemented to establish a HTTP connection (Task 4). All exceptions thrown by your function shall be logged as errors.\n",
        "\n",
        "To accomplish the task:\n",
        "- write a Python function *init_log(file_name, file_mode, level, format, date_format)* that initializes a custom log file to which all debugging information and errors are appended using a format that includes the date, time, level and the message of the logging event\n",
        "- log occurring errors by calling *logging.error(...)*\n",
        "- close the log after completing your task by calling *logging.shutdown()*\n",
        "\n",
        "If you choose not to complete Tasks 4, test the logging functionality with a few examples of your own."
      ],
      "metadata": {
        "collapsed": false,
        "id": "ogac-RcI7a-F"
      }
    },
    {
      "cell_type": "code",
      "execution_count": 17,
      "outputs": [
        {
          "output_type": "stream",
          "name": "stderr",
          "text": [
            "INFO:root:Successfully connected to harder-design.com\n"
          ]
        },
        {
          "output_type": "stream",
          "name": "stdout",
          "text": [
            "b'<!DOCTYPE html>\\n<html lang=\"de\">\\n\\t<head>\\n\\t\\t<title>Design-Harder </title><meta property=\"og:site_name\" content=\"deutsch\" />\\n<meta property=\"og:title\" content=\"Design-Harder \" />\\n<meta property=\"og:desc'\n"
          ]
        }
      ],
      "source": [
        "import logging\n",
        "\n",
        "\n",
        "def init_log(file_name: str, level: int, format: str, date_format: str):\n",
        "    # initialize a logger\n",
        "    logger = logging.getLogger()\n",
        "    logger.setLevel(level)\n",
        "    # create a file handler\n",
        "    handler = logging.FileHandler(file_name)\n",
        "    handler.setLevel(level)\n",
        "    # create a logging format\n",
        "    formatter = logging.Formatter(format, date_format)\n",
        "    handler.setFormatter(formatter)\n",
        "    # add the handlers to the logger\n",
        "    logger.addHandler(handler)\n",
        "    return logger\n",
        "\n",
        "\n",
        "logger = init_log(\n",
        "    \"log.txt\",\n",
        "    logging.DEBUG,\n",
        "    \"%(asctime)s - %(name)s - %(levelname)s - %(message)s\",\n",
        "    \"%Y-%m-%d %H:%M:%S\"\n",
        ")\n",
        "\n",
        "import urllib.request\n",
        "import urllib.error\n",
        "\n",
        "# connect to google.com\n",
        "url = \"https://www.harder-design.com/\"\n",
        "try:\n",
        "    response = urllib.request.urlopen(url)\n",
        "    # read the response\n",
        "    html = response.read()\n",
        "\n",
        "    print(html[:200])\n",
        "    logger.info(\"Successfully connected to harder-design.com\")\n",
        "\n",
        "except urllib.error.HTTPError as e: # subclass of the next exception\n",
        "    print(e.code)\n",
        "    print(e.read())\n",
        "    logger.error(\"Could not connect to harder-design.com\")\n",
        "\n",
        "except urllib.error.URLError as e: # subclass of the next exception\n",
        "    print(e.reason)\n",
        "    logger.error(\"Could not connect to harder-design.com\")\n",
        "\n",
        "except Exception as e:\n",
        "    print(e)\n",
        "    logger.error(\"Could not connect to harder-design.com\")\n",
        "\n"
      ],
      "metadata": {
        "id": "hT8RvjYU7a-F",
        "colab": {
          "base_uri": "https://localhost:8080/"
        },
        "outputId": "3aa14987-5a7b-4090-ae1c-413f5770f50e"
      }
    },
    {
      "cell_type": "markdown",
      "source": [
        "## Task 06 – Download File\n",
        "In Task 4, you used the *urllib* library to establish a http connection. You can also use the *urllib* library to perform simple file downloads.\n",
        "\n",
        "Write a Python function *download_file(url, path)* that:\n",
        "- checks whether the input URL points to a .txt file\n",
        "- if the input URL points to a .txt file, uses the *urllib* library to download and write the text file to the given path on your machine\n",
        "- logs an error “No text file found at given URL, download aborted!” to the log file created in Task 5 if the input URL does not point to a .txt file.\n",
        "- properly handles exceptions\n",
        "\n",
        "Use the *download_file()* function to download William Shakespeare’s drama Macbeth as a plain\n",
        "text file from: [Macbeth](https://ia802707.us.archive.org/1/items/macbeth02264gut/0ws3410.txt)"
      ],
      "metadata": {
        "collapsed": false,
        "id": "FFvlZPUc7a-G"
      }
    },
    {
      "cell_type": "code",
      "execution_count": 20,
      "outputs": [],
      "source": [
        "from os import execlp\n",
        "import urllib.request\n",
        "\n",
        "def download_file(url, path):\n",
        "  try:     \n",
        "    if url[-4:] == \".txt\":\n",
        "      urllib.request.urlretrieve(url, path)\n",
        "    else: \n",
        "      raise NameError('URL name wrong name') \n",
        "  except:\n",
        "    return \"No text file found at given URL, download aborted!\"\n",
        "download_file('https://ia802707.us.archive.org/1/items/macbeth02264gut/0ws3410.txt','p')"
      ],
      "metadata": {
        "id": "3L-DwhcZ7a-G"
      }
    }
  ],
  "metadata": {
    "kernelspec": {
      "display_name": "Python 3",
      "language": "python",
      "name": "python3"
    },
    "language_info": {
      "codemirror_mode": {
        "name": "ipython",
        "version": 2
      },
      "file_extension": ".py",
      "mimetype": "text/x-python",
      "name": "python",
      "nbconvert_exporter": "python",
      "pygments_lexer": "ipython2",
      "version": "2.7.6"
    },
    "colab": {
      "provenance": [],
      "toc_visible": true
    }
  },
  "nbformat": 4,
  "nbformat_minor": 0
}